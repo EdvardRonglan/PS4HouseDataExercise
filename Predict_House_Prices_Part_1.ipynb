{
  "cells": [
    {
      "cell_type": "markdown",
      "metadata": {
        "id": "view-in-github",
        "colab_type": "text"
      },
      "source": [
        "<a href=\"https://colab.research.google.com/github/EdvardRonglan/PS4HouseDataExercise/blob/master/Predict_House_Prices_Part_1.ipynb\" target=\"_parent\"><img src=\"https://colab.research.google.com/assets/colab-badge.svg\" alt=\"Open In Colab\"/></a>"
      ]
    },
    {
      "cell_type": "code",
      "execution_count": null,
      "metadata": {
        "id": "Oh_W51UKiVyj"
      },
      "outputs": [],
      "source": [
        "# House Sales Data, ETL, Build Predictive Model(linear regression), \n",
        "# Assess Model, Deploy Model   'houseSmallData.csv' and \"data_description.txt\"\n",
        "\n",
        "import pandas as pd\n",
        "import numpy as np\n",
        "import matplotlib.pyplot as plt"
      ]
    },
    {
      "cell_type": "markdown",
      "metadata": {
        "id": "w0tNzE2GiVym"
      },
      "source": [
        "### data_description.txt\n",
        "SalePrice — the property’s sale price in dollars. This is the target variable that you’re trying to predict.  \n",
        "MSSubClass — The building class  \n",
        "MSZoning — The general zoning classification \n",
        "MasVnrArea - Masonary Veneer Area in sq ft\n",
        "LotFrontage — Linear feet of street connected to property  \n",
        "LotArea — Lot size in square feet  \n",
        "Street — Type of road access  \n",
        "Alley — Type of alley access  \n",
        "LotShape — General shape of property  \n",
        "LandContour — Flatness of the property  \n",
        "Utilities — Type of utilities available  \n",
        "LotConfig — Lot configuration  "
      ]
    },
    {
      "cell_type": "markdown",
      "metadata": {
        "id": "bHK6tRf3iVyn"
      },
      "source": [
        "$$Y = X_{1}\\beta_{1} + X_{2}\\beta_{2} + X_{3}\\beta_{3}...$$"
      ]
    },
    {
      "cell_type": "code",
      "execution_count": null,
      "metadata": {
        "colab": {
          "base_uri": "https://localhost:8080/",
          "height": 297
        },
        "id": "5bYSMt7FiVyo",
        "outputId": "1bdb489f-3ef5-416f-f1d2-788b216204f3"
      },
      "outputs": [
        {
          "output_type": "execute_result",
          "data": {
            "text/plain": [
              "   Id  MSSubClass MSZoning  LotFrontage  LotArea Street Alley LotShape  \\\n",
              "0   1          60       RL         65.0     8450   Pave   NaN      Reg   \n",
              "1   2          20       RL         80.0     9600   Pave   NaN      Reg   \n",
              "2   3          60       RL         68.0    11250   Pave   NaN      IR1   \n",
              "3   4          70       RL         60.0     9550   Pave   NaN      IR1   \n",
              "4   5          60       RL         84.0    14260   Pave   NaN      IR1   \n",
              "\n",
              "  LandContour Utilities  ... PoolArea PoolQC Fence MiscFeature MiscVal MoSold  \\\n",
              "0         Lvl    AllPub  ...        0    NaN   NaN         NaN       0      2   \n",
              "1         Lvl    AllPub  ...        0    NaN   NaN         NaN       0      5   \n",
              "2         Lvl    AllPub  ...        0    NaN   NaN         NaN       0      9   \n",
              "3         Lvl    AllPub  ...        0    NaN   NaN         NaN       0      2   \n",
              "4         Lvl    AllPub  ...        0    NaN   NaN         NaN       0     12   \n",
              "\n",
              "  YrSold  SaleType  SaleCondition  SalePrice  \n",
              "0   2008        WD         Normal     208500  \n",
              "1   2007        WD         Normal     181500  \n",
              "2   2008        WD         Normal     223500  \n",
              "3   2006        WD        Abnorml     140000  \n",
              "4   2008        WD         Normal     250000  \n",
              "\n",
              "[5 rows x 81 columns]"
            ],
            "text/html": [
              "\n",
              "  <div id=\"df-aefd4f35-cd33-4b6d-9f43-a6e43cb76f73\">\n",
              "    <div class=\"colab-df-container\">\n",
              "      <div>\n",
              "<style scoped>\n",
              "    .dataframe tbody tr th:only-of-type {\n",
              "        vertical-align: middle;\n",
              "    }\n",
              "\n",
              "    .dataframe tbody tr th {\n",
              "        vertical-align: top;\n",
              "    }\n",
              "\n",
              "    .dataframe thead th {\n",
              "        text-align: right;\n",
              "    }\n",
              "</style>\n",
              "<table border=\"1\" class=\"dataframe\">\n",
              "  <thead>\n",
              "    <tr style=\"text-align: right;\">\n",
              "      <th></th>\n",
              "      <th>Id</th>\n",
              "      <th>MSSubClass</th>\n",
              "      <th>MSZoning</th>\n",
              "      <th>LotFrontage</th>\n",
              "      <th>LotArea</th>\n",
              "      <th>Street</th>\n",
              "      <th>Alley</th>\n",
              "      <th>LotShape</th>\n",
              "      <th>LandContour</th>\n",
              "      <th>Utilities</th>\n",
              "      <th>...</th>\n",
              "      <th>PoolArea</th>\n",
              "      <th>PoolQC</th>\n",
              "      <th>Fence</th>\n",
              "      <th>MiscFeature</th>\n",
              "      <th>MiscVal</th>\n",
              "      <th>MoSold</th>\n",
              "      <th>YrSold</th>\n",
              "      <th>SaleType</th>\n",
              "      <th>SaleCondition</th>\n",
              "      <th>SalePrice</th>\n",
              "    </tr>\n",
              "  </thead>\n",
              "  <tbody>\n",
              "    <tr>\n",
              "      <th>0</th>\n",
              "      <td>1</td>\n",
              "      <td>60</td>\n",
              "      <td>RL</td>\n",
              "      <td>65.0</td>\n",
              "      <td>8450</td>\n",
              "      <td>Pave</td>\n",
              "      <td>NaN</td>\n",
              "      <td>Reg</td>\n",
              "      <td>Lvl</td>\n",
              "      <td>AllPub</td>\n",
              "      <td>...</td>\n",
              "      <td>0</td>\n",
              "      <td>NaN</td>\n",
              "      <td>NaN</td>\n",
              "      <td>NaN</td>\n",
              "      <td>0</td>\n",
              "      <td>2</td>\n",
              "      <td>2008</td>\n",
              "      <td>WD</td>\n",
              "      <td>Normal</td>\n",
              "      <td>208500</td>\n",
              "    </tr>\n",
              "    <tr>\n",
              "      <th>1</th>\n",
              "      <td>2</td>\n",
              "      <td>20</td>\n",
              "      <td>RL</td>\n",
              "      <td>80.0</td>\n",
              "      <td>9600</td>\n",
              "      <td>Pave</td>\n",
              "      <td>NaN</td>\n",
              "      <td>Reg</td>\n",
              "      <td>Lvl</td>\n",
              "      <td>AllPub</td>\n",
              "      <td>...</td>\n",
              "      <td>0</td>\n",
              "      <td>NaN</td>\n",
              "      <td>NaN</td>\n",
              "      <td>NaN</td>\n",
              "      <td>0</td>\n",
              "      <td>5</td>\n",
              "      <td>2007</td>\n",
              "      <td>WD</td>\n",
              "      <td>Normal</td>\n",
              "      <td>181500</td>\n",
              "    </tr>\n",
              "    <tr>\n",
              "      <th>2</th>\n",
              "      <td>3</td>\n",
              "      <td>60</td>\n",
              "      <td>RL</td>\n",
              "      <td>68.0</td>\n",
              "      <td>11250</td>\n",
              "      <td>Pave</td>\n",
              "      <td>NaN</td>\n",
              "      <td>IR1</td>\n",
              "      <td>Lvl</td>\n",
              "      <td>AllPub</td>\n",
              "      <td>...</td>\n",
              "      <td>0</td>\n",
              "      <td>NaN</td>\n",
              "      <td>NaN</td>\n",
              "      <td>NaN</td>\n",
              "      <td>0</td>\n",
              "      <td>9</td>\n",
              "      <td>2008</td>\n",
              "      <td>WD</td>\n",
              "      <td>Normal</td>\n",
              "      <td>223500</td>\n",
              "    </tr>\n",
              "    <tr>\n",
              "      <th>3</th>\n",
              "      <td>4</td>\n",
              "      <td>70</td>\n",
              "      <td>RL</td>\n",
              "      <td>60.0</td>\n",
              "      <td>9550</td>\n",
              "      <td>Pave</td>\n",
              "      <td>NaN</td>\n",
              "      <td>IR1</td>\n",
              "      <td>Lvl</td>\n",
              "      <td>AllPub</td>\n",
              "      <td>...</td>\n",
              "      <td>0</td>\n",
              "      <td>NaN</td>\n",
              "      <td>NaN</td>\n",
              "      <td>NaN</td>\n",
              "      <td>0</td>\n",
              "      <td>2</td>\n",
              "      <td>2006</td>\n",
              "      <td>WD</td>\n",
              "      <td>Abnorml</td>\n",
              "      <td>140000</td>\n",
              "    </tr>\n",
              "    <tr>\n",
              "      <th>4</th>\n",
              "      <td>5</td>\n",
              "      <td>60</td>\n",
              "      <td>RL</td>\n",
              "      <td>84.0</td>\n",
              "      <td>14260</td>\n",
              "      <td>Pave</td>\n",
              "      <td>NaN</td>\n",
              "      <td>IR1</td>\n",
              "      <td>Lvl</td>\n",
              "      <td>AllPub</td>\n",
              "      <td>...</td>\n",
              "      <td>0</td>\n",
              "      <td>NaN</td>\n",
              "      <td>NaN</td>\n",
              "      <td>NaN</td>\n",
              "      <td>0</td>\n",
              "      <td>12</td>\n",
              "      <td>2008</td>\n",
              "      <td>WD</td>\n",
              "      <td>Normal</td>\n",
              "      <td>250000</td>\n",
              "    </tr>\n",
              "  </tbody>\n",
              "</table>\n",
              "<p>5 rows × 81 columns</p>\n",
              "</div>\n",
              "      <button class=\"colab-df-convert\" onclick=\"convertToInteractive('df-aefd4f35-cd33-4b6d-9f43-a6e43cb76f73')\"\n",
              "              title=\"Convert this dataframe to an interactive table.\"\n",
              "              style=\"display:none;\">\n",
              "        \n",
              "  <svg xmlns=\"http://www.w3.org/2000/svg\" height=\"24px\"viewBox=\"0 0 24 24\"\n",
              "       width=\"24px\">\n",
              "    <path d=\"M0 0h24v24H0V0z\" fill=\"none\"/>\n",
              "    <path d=\"M18.56 5.44l.94 2.06.94-2.06 2.06-.94-2.06-.94-.94-2.06-.94 2.06-2.06.94zm-11 1L8.5 8.5l.94-2.06 2.06-.94-2.06-.94L8.5 2.5l-.94 2.06-2.06.94zm10 10l.94 2.06.94-2.06 2.06-.94-2.06-.94-.94-2.06-.94 2.06-2.06.94z\"/><path d=\"M17.41 7.96l-1.37-1.37c-.4-.4-.92-.59-1.43-.59-.52 0-1.04.2-1.43.59L10.3 9.45l-7.72 7.72c-.78.78-.78 2.05 0 2.83L4 21.41c.39.39.9.59 1.41.59.51 0 1.02-.2 1.41-.59l7.78-7.78 2.81-2.81c.8-.78.8-2.07 0-2.86zM5.41 20L4 18.59l7.72-7.72 1.47 1.35L5.41 20z\"/>\n",
              "  </svg>\n",
              "      </button>\n",
              "      \n",
              "  <style>\n",
              "    .colab-df-container {\n",
              "      display:flex;\n",
              "      flex-wrap:wrap;\n",
              "      gap: 12px;\n",
              "    }\n",
              "\n",
              "    .colab-df-convert {\n",
              "      background-color: #E8F0FE;\n",
              "      border: none;\n",
              "      border-radius: 50%;\n",
              "      cursor: pointer;\n",
              "      display: none;\n",
              "      fill: #1967D2;\n",
              "      height: 32px;\n",
              "      padding: 0 0 0 0;\n",
              "      width: 32px;\n",
              "    }\n",
              "\n",
              "    .colab-df-convert:hover {\n",
              "      background-color: #E2EBFA;\n",
              "      box-shadow: 0px 1px 2px rgba(60, 64, 67, 0.3), 0px 1px 3px 1px rgba(60, 64, 67, 0.15);\n",
              "      fill: #174EA6;\n",
              "    }\n",
              "\n",
              "    [theme=dark] .colab-df-convert {\n",
              "      background-color: #3B4455;\n",
              "      fill: #D2E3FC;\n",
              "    }\n",
              "\n",
              "    [theme=dark] .colab-df-convert:hover {\n",
              "      background-color: #434B5C;\n",
              "      box-shadow: 0px 1px 3px 1px rgba(0, 0, 0, 0.15);\n",
              "      filter: drop-shadow(0px 1px 2px rgba(0, 0, 0, 0.3));\n",
              "      fill: #FFFFFF;\n",
              "    }\n",
              "  </style>\n",
              "\n",
              "      <script>\n",
              "        const buttonEl =\n",
              "          document.querySelector('#df-aefd4f35-cd33-4b6d-9f43-a6e43cb76f73 button.colab-df-convert');\n",
              "        buttonEl.style.display =\n",
              "          google.colab.kernel.accessAllowed ? 'block' : 'none';\n",
              "\n",
              "        async function convertToInteractive(key) {\n",
              "          const element = document.querySelector('#df-aefd4f35-cd33-4b6d-9f43-a6e43cb76f73');\n",
              "          const dataTable =\n",
              "            await google.colab.kernel.invokeFunction('convertToInteractive',\n",
              "                                                     [key], {});\n",
              "          if (!dataTable) return;\n",
              "\n",
              "          const docLinkHtml = 'Like what you see? Visit the ' +\n",
              "            '<a target=\"_blank\" href=https://colab.research.google.com/notebooks/data_table.ipynb>data table notebook</a>'\n",
              "            + ' to learn more about interactive tables.';\n",
              "          element.innerHTML = '';\n",
              "          dataTable['output_type'] = 'display_data';\n",
              "          await google.colab.output.renderOutput(dataTable, element);\n",
              "          const docLink = document.createElement('div');\n",
              "          docLink.innerHTML = docLinkHtml;\n",
              "          element.appendChild(docLink);\n",
              "        }\n",
              "      </script>\n",
              "    </div>\n",
              "  </div>\n",
              "  "
            ]
          },
          "metadata": {},
          "execution_count": 43
        }
      ],
      "source": [
        "data = pd.read_csv('https://raw.githubusercontent.com/johntango/PS4HouseDataExercise/master/train.csv')\n",
        "data.shape\n",
        "train = data.iloc[:,:]\n",
        "\n",
        "train.to_json('housedata.json')\n",
        "train.head()"
      ]
    },
    {
      "cell_type": "markdown",
      "source": [
        "# New Section"
      ],
      "metadata": {
        "id": "aO6mI5FNi3ou"
      }
    },
    {
      "cell_type": "code",
      "execution_count": null,
      "metadata": {
        "colab": {
          "base_uri": "https://localhost:8080/"
        },
        "id": "gnhZPn2piVyo",
        "outputId": "aa55812d-892d-4db9-ec58-f9d46d21ce6b"
      },
      "outputs": [
        {
          "output_type": "execute_result",
          "data": {
            "text/plain": [
              "0       208500\n",
              "1       181500\n",
              "2       223500\n",
              "3       140000\n",
              "4       250000\n",
              "         ...  \n",
              "1455    175000\n",
              "1456    210000\n",
              "1457    266500\n",
              "1458    142125\n",
              "1459    147500\n",
              "Name: SalePrice, Length: 1460, dtype: int64"
            ]
          },
          "metadata": {},
          "execution_count": 44
        }
      ],
      "source": [
        "# investigate Sale Price\n",
        "train['SalePrice']"
      ]
    },
    {
      "cell_type": "code",
      "execution_count": null,
      "metadata": {
        "colab": {
          "base_uri": "https://localhost:8080/",
          "height": 333
        },
        "id": "YA1EAz3WiVyp",
        "outputId": "9be66c66-8fb3-46c9-edf3-5308b8b99660"
      },
      "outputs": [
        {
          "output_type": "execute_result",
          "data": {
            "text/plain": [
              "(array([148., 723., 373., 135.,  51.,  19.,   4.,   3.,   2.,   2.]),\n",
              " array([ 34900., 106910., 178920., 250930., 322940., 394950., 466960.,\n",
              "        538970., 610980., 682990., 755000.]),\n",
              " <a list of 10 Patch objects>)"
            ]
          },
          "metadata": {},
          "execution_count": 45
        },
        {
          "output_type": "display_data",
          "data": {
            "text/plain": [
              "<Figure size 432x288 with 1 Axes>"
            ],
            "image/png": "[encoded data removed]"
          },
          "metadata": {
            "needs_background": "light"
          }
        }
      ],
      "source": [
        "# plot hist\n",
        "plt.hist(train['SalePrice'])"
      ]
    },
    {
      "cell_type": "code",
      "execution_count": null,
      "metadata": {
        "id": "hXKsSD6qiVyq"
      },
      "outputs": [],
      "source": [
        "from sklearn.experimental import enable_iterative_imputer\n",
        "from sklearn.impute import IterativeImputer\n",
        "from sklearn.feature_selection import SelectFromModel\n",
        "from sklearn.linear_model import LassoCV\n",
        "from statsmodels.regression.linear_model import OLS\n",
        "\n",
        "# Make non-numeric colums numeric\n",
        "numeric = train.select_dtypes(include=[np.number])\n",
        "numeric.shape\n",
        "non_numeric = train.loc[:, ~train.columns.isin(numeric.columns.to_list())]\n",
        "for col in non_numeric.columns:\n",
        "  train[col] = train[col].astype('category')\n",
        "  train[col] = train[col].cat.codes\n",
        "\n",
        "\n",
        "# Removes NaN values\n",
        "imp = IterativeImputer()\n",
        "df_imp = imp.fit_transform(train)\n",
        "df_imp = pd.DataFrame(df_imp)\n",
        "df_imp.columns = train.columns\n",
        "train = df_imp\n",
        "\n",
        "X = train.loc[:,train.columns !='SalePrice']\n",
        "Y = train['SalePrice']"
      ]
    },
    {
      "cell_type": "code",
      "execution_count": null,
      "metadata": {
        "id": "468F5oY9iVyr"
      },
      "outputs": [],
      "source": [
        "# buld Linear Regression Model\n",
        "from sklearn import linear_model\n",
        "lr = linear_model.LinearRegression()\n",
        "model = lr.fit(X, Y)\n",
        "predictions = model.predict(X)"
      ]
    },
    {
      "cell_type": "code",
      "execution_count": null,
      "metadata": {
        "colab": {
          "base_uri": "https://localhost:8080/"
        },
        "id": "zHRuYpU3iVys",
        "outputId": "e65afed7-2839-4dbb-9da1-9323fb891a0c"
      },
      "outputs": [
        {
          "output_type": "execute_result",
          "data": {
            "text/plain": [
              "0.8688711791894518"
            ]
          },
          "metadata": {},
          "execution_count": 50
        }
      ],
      "source": [
        "# How good is the model\n",
        "model.score(X,Y)\n"
      ]
    },
    {
      "cell_type": "code",
      "execution_count": null,
      "metadata": {
        "colab": {
          "base_uri": "https://localhost:8080/",
          "height": 282
        },
        "id": "GrYb9djIiVys",
        "outputId": "28a73b9b-3738-411c-8e5d-11e7ffb28e0e"
      },
      "outputs": [
        {
          "output_type": "execute_result",
          "data": {
            "text/plain": [
              "<matplotlib.collections.PathCollection at 0x7f33c0f20b90>"
            ]
          },
          "metadata": {},
          "execution_count": 51
        },
        {
          "output_type": "display_data",
          "data": {
            "text/plain": [
              "<Figure size 432x288 with 1 Axes>"
            ],
            "image/png": "[encoded data removed]"
          },
          "metadata": {
            "needs_background": "light"
          }
        }
      ],
      "source": [
        "# Scatter plot of predictions\n",
        "plt.scatter(predictions, Y)"
      ]
    },
    {
      "cell_type": "code",
      "execution_count": null,
      "metadata": {
        "id": "rJcvLR0liVyt"
      },
      "outputs": [],
      "source": [
        "test_data = pd.read_csv('https://raw.githubusercontent.com/johntango/PS4HouseDataExercise/master/test.csv')"
      ]
    },
    {
      "cell_type": "code",
      "execution_count": null,
      "metadata": {
        "id": "ZYu9PNWUiVyt"
      },
      "outputs": [],
      "source": [
        "# Make non-numeric colums numeric\n",
        "numeric = test_data.select_dtypes(include=[np.number])\n",
        "numeric.shape\n",
        "non_numeric = test_data.loc[:, ~test_data.columns.isin(numeric.columns.to_list())]\n",
        "for col in non_numeric.columns:\n",
        "  test_data[col] = test_data[col].astype('category')\n",
        "  test_data[col] = test_data[col].cat.codes\n",
        "\n",
        "\n",
        "# Removes/predicts NaN values\n",
        "imp = IterativeImputer()\n",
        "df_imp = imp.fit_transform(test_data)\n",
        "df_imp = pd.DataFrame(df_imp)\n",
        "df_imp.columns = test_data.columns\n",
        "test_data = df_imp"
      ]
    },
    {
      "cell_type": "code",
      "execution_count": null,
      "metadata": {
        "id": "hC1HK-MOiVyt",
        "colab": {
          "base_uri": "https://localhost:8080/"
        },
        "outputId": "8f77ddda-309c-4530-de56-92af86f68043"
      },
      "outputs": [
        {
          "output_type": "execute_result",
          "data": {
            "text/plain": [
              "array([ 92570.37916173, 108367.43872441, 242298.47924923, 128248.09782821,\n",
              "       197133.35897788, 155543.80810498, 186857.18018675,  76722.00653345,\n",
              "       268954.39167844,  92715.49274368, 114155.70059845, 116876.60847507,\n",
              "       151386.98892392,  83781.40505322, 127474.37844043, 225098.10324165,\n",
              "       227045.25154605, 210545.20127405, 186820.92822291, 200701.52081045,\n",
              "       160933.09266479, 226336.97294331, 120082.51196707, 190846.00589417,\n",
              "       339815.55673282, 119101.50924784, 166667.43981718, 296153.08139891,\n",
              "       116000.43840361, 128574.04412185, 126629.35865134, 223457.37714335,\n",
              "       293894.69944488, 249208.51225294, 135609.0397582 ,  77121.75322155,\n",
              "       320976.66040606, 260903.16330085,  92739.38157775,  68019.04935763,\n",
              "       148376.879988  , 184758.0725786 , 217275.35893763, 264325.78751213,\n",
              "       327842.10690538, 147810.49524131, 395680.4573272 , 136025.40706985,\n",
              "       151152.59553348, 107895.52886547, 207656.11641359, 208037.68620424,\n",
              "       181658.70308029, 163552.52845089, 256210.6157911 , 180542.61785917,\n",
              "       229594.04378483, 234914.12009429, 361235.4091169 , 203122.70550654,\n",
              "       213051.74009073,  84592.39629512, 118447.13147436, 151905.5736164 ,\n",
              "       154006.97926328, 275643.92146468, 188048.96636361, 196598.1197733 ,\n",
              "       205517.20222089, 126717.2614396 , 130676.03688394, 155240.36967482,\n",
              "       128344.03166202, 160079.62827936, 208138.95923973, 168791.029652  ,\n",
              "       178042.12610768, 132774.05229173, 152787.82511613, 117021.53686305,\n",
              "       180241.26642326, 124782.61523489, 203989.69923832, 174064.57927687,\n",
              "       177995.12225197, 173662.30511012,  77775.41179025, 264149.43004231,\n",
              "       175112.39842331, 209836.53591534,  67245.91916992, 174215.75526348,\n",
              "       168268.52147203, 182939.54831293, 127802.75366469, 185330.61594105,\n",
              "       131770.76423474, 168933.63901129, 108153.87977412, 189765.54400643,\n",
              "        30927.76069087, 112316.31062501, 128414.21313152, 161610.6525782 ,\n",
              "       110792.16459761, 331358.75274992, 213706.22553614, 234078.96321621,\n",
              "       165185.04286318, 295784.86053536, 190731.27610538, 216560.27438456,\n",
              "       121511.07696521, 139902.35739953, 114091.14347402, 314528.87055874,\n",
              "       208228.8152801 , 150188.17255147, 123567.55450646, 125558.45113093,\n",
              "       117367.01724341, 238692.92311848,  79701.83342567, 101285.90949728,\n",
              "       181027.94832547, 125826.44506772, 207221.89685573, 239933.85700676,\n",
              "       234578.10415747, 130745.47337259, 158735.34601725, 111506.11461282,\n",
              "       150921.72928009, 242307.79241063, 181911.55857344, 102072.8783396 ,\n",
              "       113992.3352873 ,  99067.03267253, 221791.51376205, 103426.02205778,\n",
              "       134512.27796205, 198266.17153416, 360944.85784863,  89962.8631709 ,\n",
              "        91660.22238298, 136971.79837295, 194413.11645199, 166401.9137854 ,\n",
              "       128476.12308102, 177801.64194282, 123582.91111479, 170870.81595846,\n",
              "       202968.95365096, 136042.20536509, 236390.82904167, 233479.91479341,\n",
              "       172705.16348693, 220123.16089126, 252361.09052033, 209718.98956427,\n",
              "       144642.2119243 , 218554.18337306, 123241.12674958, 139816.66550907,\n",
              "       198042.7843841 , 227399.24699665, 258769.7170308 , 194465.02425718,\n",
              "       202737.18776965, 458225.17067165, -38560.84481421, 175883.09361842,\n",
              "       169568.74385592, 210379.18954837, 218885.3638666 , 302905.51082434,\n",
              "       129932.00468557, 120722.21770003, 129563.76774799,  98406.84731167,\n",
              "       247763.46172579, 293881.58871119, 662907.44356508, 148339.74924458,\n",
              "       194733.07182686, 128467.46514369, 114533.11895295, 257994.47684488,\n",
              "       200032.44078416, 192331.49401838, 198667.10693777, 200013.67745839,\n",
              "       138060.37503088, 177015.50394387, 161917.84263436, 180779.06168434,\n",
              "       253932.24064778, 154791.88092018, 189138.45033595, 133089.06854973,\n",
              "        72563.97525282, 198792.74783671, 123678.133461  , 204312.39292141,\n",
              "       156444.29892878, 282337.15019016, 118305.26692931, 228651.22905986,\n",
              "       141120.32086739, 304190.96245173, 214697.57564434, 222068.9080771 ,\n",
              "        78466.70922952, 129762.60945323, 127498.69020441, 101838.27947409,\n",
              "       148941.14370885, 244047.11925575,  80052.60659859,  98835.74930386,\n",
              "        98419.87640304, 126572.12831729, 178219.03301863, 166163.43991879,\n",
              "       229157.55569485, 146330.73213337, 244253.62582853, 154558.48816614,\n",
              "       359334.09440344, 119169.22878379, 212938.28236414, 142671.60240571,\n",
              "       101753.79360026, 143509.25461725, 127431.50160163, 137813.01120793,\n",
              "       191989.17869159, 227341.77961544, 155909.77043036, 253286.12307148,\n",
              "       223445.61245071, 258461.18322886, 185986.2672929 , 368466.83499234,\n",
              "       209892.12929508, 191849.80474717, 205410.10434532, 165814.16245492,\n",
              "       172589.58828314, 118373.02096632, 277036.94814136, 205219.60265428,\n",
              "       113251.64810767, 272904.74195606, 212885.161779  , 133715.90008232,\n",
              "       303632.35896624, 110966.89748638, 208909.66037263, 179859.20329172,\n",
              "       171910.40270898, 117978.13971848, 144102.58820083, 155678.88894418,\n",
              "       176908.34257874, 193573.05611093, 138841.42967309, 343342.02294278,\n",
              "       351333.2332547 , 136854.01563356, 260034.14861289, 191949.41781449,\n",
              "       131873.07766859, 186676.15732845, 134857.01630702, 169695.13392184,\n",
              "       158660.97956144, 210466.14887508, 238258.89213201,  96177.50332756,\n",
              "       219774.82470646, 214857.88678092, 169734.55312462, 137301.38146352,\n",
              "       210984.43639542, 127686.57062669, 182588.78582584, 178974.63800865,\n",
              "       255178.02495722, 309635.5189993 , 161409.61712281, 120581.5614025 ,\n",
              "       126502.05705039, 196456.21048833, 121151.70887336, 145856.62766429,\n",
              "       155652.07193431, 140535.63593328, 404595.82233108, 167401.76793299,\n",
              "       247102.08438772, 166887.92011404, 293426.17787562, 245791.6073912 ,\n",
              "       173292.42615455, 329266.9001428 , 205469.87764664, 134447.93607199,\n",
              "       144985.60578999, 191160.53906904, 290833.74185092, 212563.35372069,\n",
              "       320377.77397429, 305861.53301743, 107671.64035107, 222537.02193534,\n",
              "       303246.33913609, 198055.35125151, 257334.27664286,  85932.20528325,\n",
              "       186703.81037653,  80199.58578856, 230484.86806719, 114438.55362543,\n",
              "       296366.44386947,  60209.80435419,  78104.90163542, 147910.42132785,\n",
              "       273032.58051342, 193535.66370439, 268075.7188994 , 130477.5379705 ,\n",
              "       104912.28030413, 128406.82691009, 122286.63173735, 180449.2485414 ,\n",
              "       147580.80401552,  52823.96833938, 230211.81398871, 112441.01082809,\n",
              "       117169.25103706, 175237.51820016, 244882.0169271 , 179873.57809462,\n",
              "       202007.97538972,  98841.42031466, 249601.94711677, 292527.41199653,\n",
              "       237563.45563668, 145883.02508236, 217024.18549005, 189856.76276182,\n",
              "       147465.5150458 , 373783.653466  , 236389.94082999, 190167.68380266,\n",
              "       100149.10954878, 153531.52166225, 173836.18842679, 335964.02055802,\n",
              "       190110.99287074, 269850.715504  , 111123.81400269, 174644.65961785,\n",
              "       143033.07540468, 218944.02226585, 208573.94111123, 120816.5738819 ,\n",
              "       156417.18531349, 264515.29755613, 137550.7221636 , 197531.06026941,\n",
              "       252654.97845594, 433919.76657718, 254486.09182534, 250914.78670438,\n",
              "       104084.31124699, 130448.15154612, 100988.00186608, 158183.63690082,\n",
              "        49480.06897315, 230504.27117973, 190151.6738226 , 140377.00227072,\n",
              "       119091.47181352, 126321.72351756, 278531.91713158, 203128.93563298,\n",
              "       358128.83680792, 131024.58144031, 238979.52154499, 135606.87559869,\n",
              "       125746.83482927, 142818.9469569 , 233367.65108168, 290257.83301451,\n",
              "       164835.54513993, 134554.39687089, 134696.20247663, 169517.86291032,\n",
              "       119129.43218239, 187058.17302709, 212890.89473733, 261408.01472898,\n",
              "        98860.76386265, 271336.77310771, 143284.95208371, 116366.18241762,\n",
              "       130964.51815101, 224770.87055051, 214596.0097098 , 148064.21854953,\n",
              "        87307.199688  , 276792.08871347, 173456.55637019, 221166.89910448,\n",
              "       118484.64228297, 305814.04157447, 136355.05521668, 233074.9396658 ,\n",
              "       177493.21785307, 136685.79026989, 155243.66931379, 163368.09899853,\n",
              "       141070.83314563, 185947.38032479, 256524.14295949, 138640.11665433,\n",
              "       128755.91628163, 222160.86596307, 194072.90819306, 135549.91863477,\n",
              "        83816.00995976, 196228.31414661, 159976.73358823, 202494.92147117,\n",
              "       114582.88329281, 374499.09772345, 161795.92549334, 175414.54861809,\n",
              "       219449.95760469, 151571.29747388, 372647.93230461, 117026.89904962,\n",
              "       212913.94854398, 124115.35958366, 139803.63572006, 261851.79278483,\n",
              "       118614.69631633, 113268.5747746 , 120981.42693872, 274569.50959492,\n",
              "       122764.78103528, 120242.91319303, 200722.07673256, 172630.32321858,\n",
              "       229943.42371276, 260445.56679849, 152266.63517326, 168034.3856784 ])"
            ]
          },
          "metadata": {},
          "execution_count": 54
        }
      ],
      "source": [
        "test_predictions = model.predict(test_data)\n",
        "test_predictions"
      ]
    },
    {
      "cell_type": "code",
      "execution_count": null,
      "metadata": {
        "id": "e--5D8-NiVyt",
        "colab": {
          "base_uri": "https://localhost:8080/"
        },
        "outputId": "5f086b0a-af78-4e98-8768-4a8240ce4623"
      },
      "outputs": [
        {
          "output_type": "stream",
          "name": "stdout",
          "text": [
            "Drive already mounted at /drive; to attempt to forcibly remount, call drive.mount(\"/drive\", force_remount=True).\n"
          ]
        }
      ],
      "source": [
        "result = pd.DataFrame()\n",
        "result[\"Id\"] = test_data[\"Id\"]\n",
        "result[\"SalePrice\"] = test_predictions\n",
        "\n",
        "#result.to_csv(data_path + \"/result.csv\", index=False)\n",
        "\n",
        "from google.colab import  drive\n",
        "drive.mount('/drive')\n",
        "result.to_csv('/drive/My Drive/1125_Pset4/predictions.csv', index=False)"
      ]
    },
    {
      "cell_type": "code",
      "execution_count": null,
      "metadata": {
        "id": "miDMNwIUiVyt"
      },
      "outputs": [],
      "source": []
    }
  ],
  "metadata": {
    "kernelspec": {
      "display_name": "Python 3",
      "language": "python",
      "name": "python3"
    },
    "language_info": {
      "codemirror_mode": {
        "name": "ipython",
        "version": 3
      },
      "file_extension": ".py",
      "mimetype": "text/x-python",
      "name": "python",
      "nbconvert_exporter": "python",
      "pygments_lexer": "ipython3",
      "version": "3.9.0"
    },
    "colab": {
      "provenance": [],
      "collapsed_sections": [],
      "include_colab_link": true
    }
  },
  "nbformat": 4,
  "nbformat_minor": 0
}